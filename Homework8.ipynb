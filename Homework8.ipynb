{
 "cells": [
  {
   "cell_type": "markdown",
   "id": "b5ae1cc3",
   "metadata": {},
   "source": [
    "**Домашнее задание 8**\n",
    "<br>Цель: разработать систему, которая будет формировать описания покупателей на основе характеристик, представленных в файле.\n",
    "\n",
    "<br>На входе — CSV-файл с характеристиками покупателей.\n",
    "\n",
    "<br>На выходе — TXT-файл с описаниями.\n",
    "\n",
    "<br>Шаги:\n",
    "\n",
    "<li>Загрузить CSV-файл.\n",
    "<li>Выполнить парсинг (извлечение атрибутов из структурированного текста).\n",
    "<li>Преобразовать данные (при необходимости).\n",
    "<li>Сформировать текстовое описание по шаблону.\n",
    "<li>Записать в единый TXT-файл.\n",
    "\n",
    "<br>Пример строки на входе:\n",
    "\n",
    "<br>ФИО: Allen Miss. Elisabeth Walton\n",
    "<br>Пол: female\n",
    "<br>Возраст: 29\n",
    "<br>Устройство, с которого выполнялась покупка: mobile\n",
    "<br>Браузер: Chrome\n",
    "<br>Сумма чека: 885\n",
    "<br>Регион покупки: St Louis: MO\n",
    "\n",
    "<br>Пример строки на выходе:\n",
    "\n",
    "Пользователь Allen Miss. Elisabeth Walton женского пола, 29 лет совершила покупку на 885 у.е. с мобильного браузера Chrome. Регион, из которого совершалась покупка: St Louis: MO."
   ]
  },
  {
   "cell_type": "markdown",
   "id": "7b225357",
   "metadata": {},
   "source": [
    "**Исследуем данные:**\n",
    "<br> файл 'web_clients_correct.csv' необходимо положить в корень диска d"
   ]
  },
  {
   "cell_type": "code",
   "execution_count": 1,
   "id": "809d8391",
   "metadata": {},
   "outputs": [],
   "source": [
    "import pandas as pd\n",
    "import os\n",
    "\n",
    "if os.path.exists('d:/web_clients_correct.csv'):\n",
    "    df = pd.read_csv('d:/web_clients_correct.csv', sep=',')\n",
    "else:\n",
    "    print('Такого файла не существует!')"
   ]
  },
  {
   "cell_type": "code",
   "execution_count": 2,
   "id": "03456e66",
   "metadata": {},
   "outputs": [
    {
     "name": "stdout",
     "output_type": "stream",
     "text": [
      "<class 'pandas.core.frame.DataFrame'>\n",
      "RangeIndex: 915 entries, 0 to 914\n",
      "Data columns (total 7 columns):\n",
      " #   Column       Non-Null Count  Dtype  \n",
      "---  ------       --------------  -----  \n",
      " 0   name         915 non-null    object \n",
      " 1   device_type  915 non-null    object \n",
      " 2   browser      915 non-null    object \n",
      " 3   sex          915 non-null    object \n",
      " 4   age          915 non-null    float64\n",
      " 5   bill         915 non-null    int64  \n",
      " 6   region       915 non-null    object \n",
      "dtypes: float64(1), int64(1), object(5)\n",
      "memory usage: 50.2+ KB\n"
     ]
    }
   ],
   "source": [
    "# нулевых значений нет, 'возраст' - все числа с плавающей запятой, 'стоимость' - все числа целые\n",
    "df.info()"
   ]
  },
  {
   "cell_type": "code",
   "execution_count": 3,
   "id": "54fd2c81",
   "metadata": {},
   "outputs": [
    {
     "data": {
      "text/plain": [
       "['name', 'device_type', 'browser', 'sex', 'age', 'bill', 'region']"
      ]
     },
     "execution_count": 3,
     "metadata": {},
     "output_type": "execute_result"
    }
   ],
   "source": [
    "# список полей данных\n",
    "df.columns.tolist()"
   ]
  },
  {
   "cell_type": "code",
   "execution_count": 4,
   "id": "62ec8568",
   "metadata": {},
   "outputs": [
    {
     "name": "stdout",
     "output_type": "stream",
     "text": [
      "name: 914\n",
      "device_type: 4\n",
      "browser: 4\n",
      "sex: 2\n",
      "age: 61\n",
      "bill: 679\n",
      "region: 367\n"
     ]
    }
   ],
   "source": [
    "# количество уникальных значений каждого поля\n",
    "# из важного - 'пол' - 2 значения, 'тип устройства' - 4 значения\n",
    "for el in df.columns.tolist():\n",
    "    print(f'{el}: {df[el].nunique()}')"
   ]
  },
  {
   "cell_type": "code",
   "execution_count": 5,
   "id": "3cf9aee0",
   "metadata": {},
   "outputs": [
    {
     "data": {
      "text/html": [
       "<div>\n",
       "<style scoped>\n",
       "    .dataframe tbody tr th:only-of-type {\n",
       "        vertical-align: middle;\n",
       "    }\n",
       "\n",
       "    .dataframe tbody tr th {\n",
       "        vertical-align: top;\n",
       "    }\n",
       "\n",
       "    .dataframe thead th {\n",
       "        text-align: right;\n",
       "    }\n",
       "</style>\n",
       "<table border=\"1\" class=\"dataframe\">\n",
       "  <thead>\n",
       "    <tr style=\"text-align: right;\">\n",
       "      <th></th>\n",
       "      <th>age</th>\n",
       "      <th>bill</th>\n",
       "    </tr>\n",
       "  </thead>\n",
       "  <tbody>\n",
       "    <tr>\n",
       "      <th>count</th>\n",
       "      <td>915.000000</td>\n",
       "      <td>915.000000</td>\n",
       "    </tr>\n",
       "    <tr>\n",
       "      <th>mean</th>\n",
       "      <td>36.500186</td>\n",
       "      <td>774.320219</td>\n",
       "    </tr>\n",
       "    <tr>\n",
       "      <th>std</th>\n",
       "      <td>12.241564</td>\n",
       "      <td>413.293281</td>\n",
       "    </tr>\n",
       "    <tr>\n",
       "      <th>min</th>\n",
       "      <td>0.670000</td>\n",
       "      <td>33.000000</td>\n",
       "    </tr>\n",
       "    <tr>\n",
       "      <th>25%</th>\n",
       "      <td>27.000000</td>\n",
       "      <td>418.500000</td>\n",
       "    </tr>\n",
       "    <tr>\n",
       "      <th>50%</th>\n",
       "      <td>33.000000</td>\n",
       "      <td>778.000000</td>\n",
       "    </tr>\n",
       "    <tr>\n",
       "      <th>75%</th>\n",
       "      <td>45.000000</td>\n",
       "      <td>1138.500000</td>\n",
       "    </tr>\n",
       "    <tr>\n",
       "      <th>max</th>\n",
       "      <td>80.000000</td>\n",
       "      <td>1500.000000</td>\n",
       "    </tr>\n",
       "  </tbody>\n",
       "</table>\n",
       "</div>"
      ],
      "text/plain": [
       "              age         bill\n",
       "count  915.000000   915.000000\n",
       "mean    36.500186   774.320219\n",
       "std     12.241564   413.293281\n",
       "min      0.670000    33.000000\n",
       "25%     27.000000   418.500000\n",
       "50%     33.000000   778.000000\n",
       "75%     45.000000  1138.500000\n",
       "max     80.000000  1500.000000"
      ]
     },
     "execution_count": 5,
     "metadata": {},
     "output_type": "execute_result"
    }
   ],
   "source": [
    "# статистика по числовым полям - аномалий нет\n",
    "df.describe()"
   ]
  },
  {
   "cell_type": "code",
   "execution_count": 6,
   "id": "d7d64033",
   "metadata": {},
   "outputs": [
    {
     "data": {
      "text/plain": [
       "tablet     238\n",
       "mobile     235\n",
       "laptop     221\n",
       "desktop    221\n",
       "Name: device_type, dtype: int64"
      ]
     },
     "execution_count": 6,
     "metadata": {},
     "output_type": "execute_result"
    }
   ],
   "source": [
    "# возможные типы устройств\n",
    "df['device_type'].value_counts()"
   ]
  },
  {
   "cell_type": "markdown",
   "id": "cf357e7a",
   "metadata": {},
   "source": [
    "**Основная часть**"
   ]
  },
  {
   "cell_type": "code",
   "execution_count": 7,
   "id": "a1d2b759",
   "metadata": {},
   "outputs": [],
   "source": [
    "# создадим класс Покупка\n",
    "class purchase():\n",
    "    # инициализация экзеемпляра класса\n",
    "    def __init__(self, name, device_type, browser, sex, age, bill, region):\n",
    "        self.name = name\n",
    "        self.device_type = device_type\n",
    "        self.browser = browser\n",
    "        self.sex = sex\n",
    "        self.age = age\n",
    "        self.bill = bill\n",
    "        self.region = region\n",
    "        # значения атрибутов экземпляра, которые зависят от входных данных\n",
    "        if sex == 'male':\n",
    "            self.sex_text = 'мужского'\n",
    "            self.action = 'совершил'\n",
    "        else:\n",
    "            self.sex_text = 'женского'\n",
    "            self.action = 'совершила'\n",
    "            \n",
    "        if device_type == 'tablet':\n",
    "            self.device_text = 'планшетного'\n",
    "        elif device_type == 'mobile':\n",
    "            self.device_text = 'мобильного'\n",
    "        elif device_type == 'laptop':\n",
    "            self.device_text = 'лэптопного'\n",
    "        else:\n",
    "            self.device_text = 'десктопного'\n",
    "        \n",
    "    # функция для формирования текста согласно задания\n",
    "    def print_text(self):\n",
    "        return (f'Пользователь {self.name} {self.sex_text} пола, {self.age} лет, {self.action} покупку на {self.bill} у.е. с {self.device_text} браузера {self.browser}. Регион, из которого совершалась покупка: {self.region}')"
   ]
  },
  {
   "cell_type": "code",
   "execution_count": 8,
   "id": "6a45520c",
   "metadata": {},
   "outputs": [],
   "source": [
    "# используем контекстный менеджер для работы с файлами\n",
    "with open(\"d:\\\\web_clients_correct.csv\", \"r\") as file1, \\\n",
    "open(\"d:\\\\result.txt\", \"w\", encoding = 'utf-8') as file2:\n",
    "    content = file1.readline() # пропускаем заголовок\n",
    "    while True:\n",
    "        content = file1.readline().split(',') # читаем строку в список с разделителем запятая\n",
    "        if content == ['']: # если считали пустую строку, то закончить чтение\n",
    "            break        \n",
    "        content[-1] = content[-1].rstrip('\\n') # удаляем символ переноса у последнего элемента списка\n",
    "        # создаем экземпляр класса Покупка, используем для инициализации считанные ранее данные\n",
    "        new_purchase = purchase(content[0], content[1], content[2], content[3], content[4], content[5], content[6])\n",
    "        print(new_purchase.print_text(), file=file2) # выводим на печать в файл текст"
   ]
  },
  {
   "cell_type": "code",
   "execution_count": null,
   "id": "1de8e914",
   "metadata": {},
   "outputs": [],
   "source": []
  }
 ],
 "metadata": {
  "kernelspec": {
   "display_name": "Python 3 (ipykernel)",
   "language": "python",
   "name": "python3"
  },
  "language_info": {
   "codemirror_mode": {
    "name": "ipython",
    "version": 3
   },
   "file_extension": ".py",
   "mimetype": "text/x-python",
   "name": "python",
   "nbconvert_exporter": "python",
   "pygments_lexer": "ipython3",
   "version": "3.9.12"
  },
  "toc": {
   "base_numbering": 1,
   "nav_menu": {},
   "number_sections": true,
   "sideBar": true,
   "skip_h1_title": false,
   "title_cell": "Table of Contents",
   "title_sidebar": "Contents",
   "toc_cell": false,
   "toc_position": {},
   "toc_section_display": true,
   "toc_window_display": false
  }
 },
 "nbformat": 4,
 "nbformat_minor": 5
}
